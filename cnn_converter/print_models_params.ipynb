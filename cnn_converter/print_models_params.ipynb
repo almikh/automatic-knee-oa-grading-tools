{
 "cells": [
  {
   "cell_type": "code",
   "execution_count": null,
   "metadata": {},
   "outputs": [],
   "source": [
    "import utils\n",
    "\n",
    "# - densenet121, se_densenet121\n",
    "# - resnet18, resnet34, resnet50, se_resnet18, se_resnet34, se_resnet50, resnext50, se_resnext50\n",
    "# - inception_v3, se_inception_v3, xception, se_xception, inception_resnet\n",
    "\n",
    "archs = [\n",
    "    \"densenet121\",\n",
    "    \"se_densenet121\",\n",
    "    \"resnet18\",\n",
    "    \"resnet34\",\n",
    "    \"resnet50\",\n",
    "    \"resnext50\",\n",
    "    \"se_resnet18\",\n",
    "    \"se_resnet34\",\n",
    "    \"se_resnet50\",\n",
    "    \"se_resnext50\",\n",
    "    \"inception_v3\",\n",
    "    \"se_inception_v3\",\n",
    "    \"xception\",\n",
    "    \"se_xception\",\n",
    "    \"inception_resnet\",\n",
    "]\n",
    "\n",
    "for arch in archs:\n",
    "    cnn_model, _, _ = utils.load_model(arch, 5);\n",
    "    total_params = sum(p.numel() for p in cnn_model.parameters())\n",
    "    total_trainable_params = sum(p.numel() for p in cnn_model.parameters() if p.requires_grad)\n",
    "    \n",
    "    print(arch)\n",
    "    print(\"  parameters number: \", total_params)\n",
    "    print(\"  trainable parameters number: \", total_trainable_params)\n",
    "    print(\"\")\n"
   ]
  },
  {
   "cell_type": "code",
   "execution_count": null,
   "metadata": {},
   "outputs": [],
   "source": []
  }
 ],
 "metadata": {
  "kernelspec": {
   "display_name": "Python 3",
   "language": "python",
   "name": "python3"
  },
  "language_info": {
   "codemirror_mode": {
    "name": "ipython",
    "version": 3
   },
   "file_extension": ".py",
   "mimetype": "text/x-python",
   "name": "python",
   "nbconvert_exporter": "python",
   "pygments_lexer": "ipython3",
   "version": "3.7.7"
  }
 },
 "nbformat": 4,
 "nbformat_minor": 4
}
