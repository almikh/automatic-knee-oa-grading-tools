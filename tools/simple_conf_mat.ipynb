{
 "cells": [
  {
   "cell_type": "code",
   "execution_count": null,
   "metadata": {},
   "outputs": [],
   "source": [
    "import numpy as np\n",
    "\n",
    "# m = np.array(\n",
    "#       [[ 2227,    920,    918,    258,    12],\n",
    "#        [ 855,    468,    529,    151,    7],\n",
    "#        [ 1092,    598,   959,    287,    29],\n",
    "#        [  410,    262,    427,   367,    74],\n",
    "#        [   48,    21,     56,    141,  99]])\n",
    "\n",
    "m = np.array(\n",
    "      [[ 144,    96,    21,    19],\n",
    "       [ 68,    60,    45,    31],\n",
    "       [ 10,    45,   118,    107],\n",
    "       [  12,    36,    105,   127]])\n",
    "\n",
    "TP = np.diag(m)\n",
    "FP = np.sum(m, axis=0) - TP\n",
    "FN = np.sum(m, axis=1) - TP\n",
    "\n",
    "num_classes = 4\n",
    "TN = []\n",
    "for i in range(num_classes):\n",
    "    temp = np.delete(m, i, 0)    # delete ith row\n",
    "    temp = np.delete(temp, i, 1)  # delete ith column\n",
    "    TN.append(sum(sum(temp)))\n",
    "\n",
    "precision = TP/(TP+FP)\n",
    "recall = TP/(TP+FN)\n",
    "\n",
    "print(precision)\n",
    "print(recall)\n",
    "\n",
    "print(2 * (precision * recall) / (precision + recall))"
   ]
  }
 ],
 "metadata": {
  "accelerator": "GPU",
  "colab": {
   "authorship_tag": "ABX9TyMHLlianmzcIwJIaHSE/KgF",
   "collapsed_sections": [],
   "name": "Ensembles 2.0.ipynb",
   "provenance": [],
   "toc_visible": true
  },
  "kernelspec": {
   "display_name": "Python 3 (ipykernel)",
   "language": "python",
   "name": "python3"
  },
  "language_info": {
   "codemirror_mode": {
    "name": "ipython",
    "version": 3
   },
   "file_extension": ".py",
   "mimetype": "text/x-python",
   "name": "python",
   "nbconvert_exporter": "python",
   "pygments_lexer": "ipython3",
   "version": "3.10.8"
  }
 },
 "nbformat": 4,
 "nbformat_minor": 1
}
