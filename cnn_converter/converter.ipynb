{
 "cells": [
  {
   "cell_type": "markdown",
   "metadata": {},
   "source": [
    "#1. Import modules"
   ]
  },
  {
   "cell_type": "code",
   "execution_count": null,
   "metadata": {
    "colab": {},
    "colab_type": "code",
    "executionInfo": {
     "elapsed": 1389,
     "status": "ok",
     "timestamp": 1593417151055,
     "user": {
      "displayName": "Alexey M.",
      "photoUrl": "",
      "userId": "13008728338773453082"
     },
     "user_tz": -180
    },
    "id": "Y9PwncccuAVk"
   },
   "outputs": [],
   "source": [
    "from torchvision import transforms\n",
    "from torchvision import datasets\n",
    "import numpy as np\n",
    "import PIL\n",
    "import torch\n",
    "import torch.nn as nn\n",
    "import torchvision.datasets as dset\n",
    "\n",
    "import torch.utils.data\n",
    "import torchvision\n"
   ]
  },
  {
   "cell_type": "markdown",
   "metadata": {},
   "source": [
    "#2. Choose the torch device"
   ]
  },
  {
   "cell_type": "code",
   "execution_count": null,
   "metadata": {},
   "outputs": [],
   "source": [
    "if torch.cuda.is_available():\n",
    "    torch_device = 'cuda:0'\n",
    "else:\n",
    "    torch_device = 'cpu'\n"
   ]
  },
  {
   "cell_type": "markdown",
   "metadata": {},
   "source": [
    "# 3. Prepare converter"
   ]
  },
  {
   "cell_type": "code",
   "execution_count": null,
   "metadata": {},
   "outputs": [],
   "source": [
    "class CnnInfer(torch.nn.Module):\n",
    "    '''\n",
    "    accepts RGB uint8 image as tensor\n",
    "    '''\n",
    "    def __init__(self, cnn_model):\n",
    "        super(CnnInfer, self).__init__()\n",
    "\n",
    "        self.mean = [0.5, 0.5, 0.5]\n",
    "        self.std = [0.5, 0.5, 0.5]   \n",
    "        self.cnn = cnn_model\n",
    "        self.cnn.eval()\n",
    "    \n",
    "    def forward(self, img):\n",
    "        x = img.permute(2,0,1).to(torch.float) / 255\n",
    "        x = torchvision.transforms.functional.normalize(x, self.mean, self.std).unsqueeze(0) # add batch dimension\n",
    "        y = self.cnn(x)\n",
    "        return y.squeeze(0) # remove batch dimension\n"
   ]
  },
  {
   "cell_type": "markdown",
   "metadata": {},
   "source": [
    "#3. Convert loaded model to script for C++"
   ]
  },
  {
   "cell_type": "code",
   "execution_count": null,
   "metadata": {},
   "outputs": [],
   "source": [
    "import json\n",
    "import utils\n",
    "\n",
    "# available architectures:\n",
    "# - densenet121, se_densenet121\n",
    "# - resnet18, resnet34, resnet50, se_resnet18, se_resnet34, se_resnet50, resnext50, se_resnext50\n",
    "# - inception_v3, se_inception_v3, xception, se_xception, inception_resnet\n",
    "\n",
    "cnn_model, frame_size, classes_header = utils.load_model(\"se_xception\", 5, \"models/se_xception.ckpt\", device=torch_device);\n",
    "\n",
    "cnn_infer = CnnInfer(cnn_model)\n",
    "\n",
    "# создаем скрипт\n",
    "sample_frame_size = (frame_size[0], frame_size[1], 3)\n",
    "sample = torch.randint(low=0, high=255, size=sample_frame_size, dtype=torch.uint8)\n",
    "# scripted_model = torch.jit.script(cnn_infer, sample)\n",
    "scripted_model = torch.jit.trace(cnn_infer, sample)\n",
    "scripted_model.save('scripted_model.pth')\n",
    "\n",
    "# метаданные (заголовки, размер изображений и т.п.)\n",
    "metadata = {\n",
    "    \"classes_header\": \",\".join(classes_header),  \n",
    "    \"input_size\": {\n",
    "        \"width\": frame_size[1],\n",
    "        \"height\": frame_size[0],\n",
    "        \"depth\": 3\n",
    "    }}\n",
    "\n",
    "with open('metadata.json', 'w') as f:\n",
    "    f.write(json.dumps(metadata, indent=4))\n",
    "\n",
    "print(\"please, check metadata:\")\n",
    "print(json.dumps(metadata, indent=4))\n"
   ]
  },
  {
   "cell_type": "code",
   "execution_count": null,
   "metadata": {},
   "outputs": [],
   "source": [
    "import os\n",
    "import zipfile\n",
    "\n",
    "output_filename = \"script.zip\"\n",
    "\n",
    "with zipfile.ZipFile(output_filename, 'w') as myzip:\n",
    "    myzip.write('scripted_model.pth')\n",
    "    myzip.write('metadata.json')\n",
    "    "
   ]
  }
 ],
 "metadata": {
  "accelerator": "GPU",
  "colab": {
   "authorship_tag": "ABX9TyMHLlianmzcIwJIaHSE/KgF",
   "collapsed_sections": [],
   "name": "Ensembles 2.0.ipynb",
   "provenance": [],
   "toc_visible": true
  },
  "kernelspec": {
   "display_name": "Python 3",
   "language": "python",
   "name": "python3"
  },
  "language_info": {
   "codemirror_mode": {
    "name": "ipython",
    "version": 3
   },
   "file_extension": ".py",
   "mimetype": "text/x-python",
   "name": "python",
   "nbconvert_exporter": "python",
   "pygments_lexer": "ipython3",
   "version": "3.7.7"
  }
 },
 "nbformat": 4,
 "nbformat_minor": 1
}
